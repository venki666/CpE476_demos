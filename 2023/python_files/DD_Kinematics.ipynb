{
 "cells": [
  {
   "cell_type": "markdown",
   "id": "7a899269-d181-4bdc-b057-a84bf1679bbc",
   "metadata": {},
   "source": [
    "# DD Kinematic Simulation \n",
    "This section of the code simulates the position of the robot given the left and right velocities over time 't'\n",
    "The radius of Instantaneous center of rotation (ICR) or instantaneous center of curvature (ICC), 'R' can be formulated as:\n",
    "$$ R = l/2 ((v-l + v_r) / (v_r - v_l)) $$\n",
    "where $l$ is the lenght of the robot chassis, $v_r$ is the right wheel velocity, and $v_l$ is the left wheel velocity."
   ]
  },
  {
   "cell_type": "markdown",
   "id": "7ee72741-828d-4bd9-92ca-abf392aa65dc",
   "metadata": {},
   "source": [
    "We accomplish this by developing a python code "
   ]
  },
  {
   "cell_type": "code",
   "execution_count": 1,
   "id": "6620b580-352d-4d7a-abf8-15faaf96207b",
   "metadata": {},
   "outputs": [],
   "source": [
    "import numpy as np\n",
    "def diffdrive(x, y, theta, v_l, v_r, t, l):\n",
    "    # straight line\n",
    "    if (v_l == v_r):\n",
    "        theta_n = theta\n",
    "        x_n = x + v_l * t * np.cos(theta)\n",
    "        y_n = y + v_l * t * np.sin(theta)\n",
    "    # circular motion\n",
    "    else:\n",
    "        # Calculate the radius\n",
    "        R = l/2.0 * ((v_l + v_r) / (v_r - v_l))\n",
    "        # computing center of curvature\n",
    "        ICC_x = x - R * np.sin(theta)\n",
    "        ICC_y = y + R * np.cos(theta)\n",
    "        # compute the angular velocity\n",
    "        omega = (v_r - v_l) / l\n",
    "        # computing angle change\n",
    "        dtheta = omega * t\n",
    "        # forward kinematics for differential drive\n",
    "        x_n = np.cos(dtheta)*(x-ICC_x) - np.sin(dtheta)*(y-ICC_y) + ICC_x\n",
    "        y_n = np.sin(dtheta)*(x-ICC_x) + np.cos(dtheta)*(y-ICC_y) + ICC_y\n",
    "        theta_n = theta + dtheta\n",
    "    return x_n, y_n, theta_n"
   ]
  },
  {
   "cell_type": "code",
   "execution_count": 3,
   "id": "ad29d9a6-a41e-4829-860e-acc55c33c285",
   "metadata": {
    "tags": []
   },
   "outputs": [
    {
     "name": "stdout",
     "output_type": "stream",
     "text": [
      "starting pose: x: 1.500000, y: 2.000000, theta: 1.570796\n",
      "after motion 1: x: 2.137642, y: 2.932039, theta: 0.370796\n"
     ]
    },
    {
     "data": {
      "image/png": "[encoded data removed]",
      "text/plain": [
       "<Figure size 432x288 with 1 Axes>"
      ]
     },
     "metadata": {
      "needs_background": "light"
     },
     "output_type": "display_data"
    }
   ],
   "source": [
    "import matplotlib\n",
    "%matplotlib inline\n",
    "\n",
    "import numpy as np\n",
    "import matplotlib.pyplot as plt\n",
    "\n",
    "plt.gca().set_aspect('equal')\n",
    "plt.xlim([0.5, 2.5])\n",
    "plt.ylim([1.5, 3.5])\n",
    "\n",
    "# set the distance between the wheels and the initial robot position\n",
    "l = 0.5\n",
    "x, y, theta = 1.5, 2.0, (np.pi)/2.0\n",
    "# plot the starting position\n",
    "plt.quiver(x, y, np.cos(theta), np.sin(theta))\n",
    "print (\"starting pose: x: %f, y: %f, theta: %f\" % (x, y, theta))\n",
    "# first motion\n",
    "v_l = 0.5\n",
    "v_r = 0.3\n",
    "t = 3\n",
    "x, y, theta = diffdrive(x, y, theta, v_l, v_r, t, l)\n",
    "plt.quiver(x, y, np.cos(theta), np.sin(theta))\n",
    "print (\"after motion 1: x: %f, y: %f, theta: %f\" % (x, y, theta))"
   ]
  },
  {
   "cell_type": "code",
   "execution_count": 7,
   "id": "388f8174-c041-4788-9c09-8c19f81b0838",
   "metadata": {},
   "outputs": [
    {
     "name": "stdout",
     "output_type": "stream",
     "text": [
      "after motion 2: x: 2.137642, y: 2.932039, theta: -2.029204\n"
     ]
    },
    {
     "data": {
      "text/plain": [
       "(1.5, 3.5)"
      ]
     },
     "execution_count": 7,
     "metadata": {},
     "output_type": "execute_result"
    },
    {
     "data": {
      "image/png": "[encoded data removed]",
      "text/plain": [
       "<Figure size 432x288 with 1 Axes>"
      ]
     },
     "metadata": {
      "needs_background": "light"
     },
     "output_type": "display_data"
    }
   ],
   "source": [
    "# second motion\n",
    "v_l = 0.1\n",
    "v_r = -0.1\n",
    "t = 3\n",
    "x, y, theta = diffdrive(x, y, theta, v_l, v_r, t, l)\n",
    "plt.quiver(x, y, np.cos(theta), np.sin(theta))\n",
    "print (\"after motion 2: x: %f, y: %f, theta: %f\" % (x, y, theta))\n",
    "plt.xlim([0.5, 2.5])\n",
    "plt.ylim([1.5, 3.5])"
   ]
  },
  {
   "cell_type": "code",
   "execution_count": 9,
   "id": "35bfd3fa-f753-4ab1-ba92-bbf3cb4dba41",
   "metadata": {},
   "outputs": [
    {
     "name": "stdout",
     "output_type": "stream",
     "text": [
      "after motion 3: x: 1.891578, y: 2.793628, theta: -3.229204\n"
     ]
    },
    {
     "data": {
      "text/plain": [
       "(1.5, 3.5)"
      ]
     },
     "execution_count": 9,
     "metadata": {},
     "output_type": "execute_result"
    },
    {
     "data": {
      "image/png": "[encoded data removed]",
      "text/plain": [
       "<Figure size 432x288 with 1 Axes>"
      ]
     },
     "metadata": {
      "needs_background": "light"
     },
     "output_type": "display_data"
    }
   ],
   "source": [
    "# third motion\n",
    "v_l = 0.2\n",
    "v_r = 0.0\n",
    "t = 3\n",
    "x, y, theta = diffdrive(x, y, theta, v_l, v_r, t, l)\n",
    "plt.quiver(x, y, np.cos(theta), np.sin(theta))\n",
    "print (\"after motion 3: x: %f, y: %f, theta: %f\" % (x, y, theta))\n",
    "plt.xlim([0.5, 2.5])\n",
    "plt.ylim([1.5, 3.5])\n"
   ]
  },
  {
   "cell_type": "code",
   "execution_count": 11,
   "id": "2c1d8731-5aa1-430c-89f2-5a72e0032232",
   "metadata": {},
   "outputs": [
    {
     "data": {
      "image/png": "[encoded data removed]",
      "text/plain": [
       "<Figure size 432x288 with 1 Axes>"
      ]
     },
     "metadata": {
      "needs_background": "light"
     },
     "output_type": "display_data"
    }
   ],
   "source": [
    "import matplotlib\n",
    "%matplotlib inline\n",
    "\n",
    "import numpy as np\n",
    "import matplotlib.pyplot as plt\n",
    "\n",
    "L = 0.2\n",
    "sigma = 0.05\n",
    "\n",
    "plt.figure()\n",
    "\n",
    "\n",
    "for i in range(1000):\n",
    "    vR = 1 + np.random.normal(0, sigma)\n",
    "    vL = 1 + np.random.normal(0, sigma)\n",
    "    theta = 0\n",
    "    x = 0\n",
    "    y = 0\n",
    "    dt = 0.1\n",
    "    \n",
    "    for t in np.arange(0.1, 10, dt):\n",
    "        x = x + 0.5 * (vR + vL) * np.cos(theta) * dt\n",
    "        y = y + 0.5 * (vR + vL) * np.sin(theta) * dt\n",
    "        theta = theta + 1 / L * (vR - vL) * dt\n",
    "        vR = 1 + np.random.normal(0, sigma)\n",
    "        vL = 1 + np.random.normal(0, sigma)\n",
    "    \n",
    "    plt.plot(x, y, 'b.')\n",
    "\n",
    "plt.show()"
   ]
  },
  {
   "cell_type": "code",
   "execution_count": 27,
   "id": "52a73b3c-417d-436e-8955-078826935dfd",
   "metadata": {},
   "outputs": [
    {
     "name": "stdout",
     "output_type": "stream",
     "text": [
      "starting pose: x: 1.500000, y: 2.000000, theta: 1.570796\n",
      "after motion 1: x: 2.135948, y: 2.967192, theta: 0.407510\n",
      "after motion 1: x: 3.259218, y: 2.759765, theta: -0.772723\n",
      "after motion 1: x: 3.487249, y: 1.654020, theta: -1.962123\n",
      "after motion 1: x: 2.546031, y: 0.987777, theta: -3.089109\n",
      "after motion 1: x: 1.533412, y: 1.530960, theta: -4.178781\n",
      "after motion 1: x: 1.674471, y: 2.619200, theta: -5.503801\n",
      "after motion 1: x: 2.760088, y: 2.786410, theta: -6.756926\n",
      "after motion 1: x: 3.271405, y: 1.777378, theta: -8.012988\n",
      "after motion 1: x: 2.522523, y: 0.900206, theta: -9.108305\n",
      "after motion 1: x: 1.446474, y: 1.218466, theta: -10.316388\n"
     ]
    },
    {
     "data": {
      "image/png": "[encoded data removed]",
      "text/plain": [
       "<Figure size 432x288 with 1 Axes>"
      ]
     },
     "metadata": {
      "needs_background": "light"
     },
     "output_type": "display_data"
    }
   ],
   "source": [
    "import matplotlib\n",
    "%matplotlib inline\n",
    "\n",
    "import numpy as np\n",
    "import matplotlib.pyplot as plt\n",
    "\n",
    "plt.gca().set_aspect('equal')\n",
    "plt.xlim([0.0, 5.5])\n",
    "plt.ylim([0.0, 5.5])\n",
    "\n",
    "# set the distance between the wheels and the initial robot position\n",
    "l = 0.5\n",
    "x, y, theta = 1.5, 2.0, (np.pi)/2.0\n",
    "sigma = 0.01\n",
    "\n",
    "# plot the starting position\n",
    "plt.quiver(x, y, np.cos(theta), np.sin(theta))\n",
    "print (\"starting pose: x: %f, y: %f, theta: %f\" % (x, y, theta))\n",
    "TRIALS = 10\n",
    "# first motion\n",
    "for trial in range(1, TRIALS+1): \n",
    "    v_l = 0.5\n",
    "    v_r = 0.3\n",
    "    v_r = v_r + (sigma * np.random.randn(1))\n",
    "    v_l = v_l + (sigma * np.random.randn(1))\n",
    "    t = 3\n",
    "    x, y, theta = diffdrive(x, y, theta, v_l, v_r, t, l)\n",
    "    plt.quiver(x, y, np.cos(theta), np.sin(theta))\n",
    "    print (\"after motion 1: x: %f, y: %f, theta: %f\" % (x, y, theta))\n",
    "\n"
   ]
  },
  {
   "cell_type": "code",
   "execution_count": null,
   "id": "5b46c682-b89a-4b02-9e02-64d351a70eec",
   "metadata": {},
   "outputs": [],
   "source": []
  }
 ],
 "metadata": {
  "kernelspec": {
   "display_name": "anaconda-2022.05-py39",
   "language": "python",
   "name": "conda-env-anaconda-2022.05-py39-py"
  },
  "language_info": {
   "codemirror_mode": {
    "name": "ipython",
    "version": 3
   },
   "file_extension": ".py",
   "mimetype": "text/x-python",
   "name": "python",
   "nbconvert_exporter": "python",
   "pygments_lexer": "ipython3",
   "version": "3.9.12"
  }
 },
 "nbformat": 4,
 "nbformat_minor": 5
}
